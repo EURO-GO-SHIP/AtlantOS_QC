{
 "cells": [
  {
   "cell_type": "markdown",
   "metadata": {},
   "source": [
    "# Calculate sensitivities with the `derivnum` add-on for CO2SYS-Matlab"
   ]
  },
  {
   "cell_type": "markdown",
   "metadata": {},
   "source": [
    "<hr>\n",
    "James Orr - 27 February 2018<br>\n",
    "\n",
    "<img align=\"left\" width=\"60%\" src=\"http://www.lsce.ipsl.fr/Css/img/banniere_LSCE_75.png\" \\><br><br>\n",
    "\n",
    "LSCE/IPSL, CEA-CNRS-UVSQ, Gif-sur-Yvette, France\n",
    "<hr>"
   ]
  },
  {
   "cell_type": "markdown",
   "metadata": {},
   "source": [
    "**Abstract**: This notebook shows how to use the new `derivnum` add-on of CO2SYS-Matlab to calculate sensitivities, i.e. partial derivatives that express rates changes of computed CO2 system variables (e.g., H+, $p$CO$_2$, $\\Omega_A$) per change in the selected input variable (e.g., $A_\\text{T}$, $C_\\text{T}$, T, S, $K_1$, $K_2$). It uses CO2SYS-Matlab in `octave`, GNU's clone of Matlab. One can simply inspect the HTML version of this file or take advantage of being able to execute its commands interactively in your browser. The latter requires `jupyter notebook` and its `oct2py` add-on that includes the `octavemagic` interface for `octave` (see below)."
   ]
  },
  {
   "cell_type": "markdown",
   "metadata": {},
   "source": [
    "#### Table of Contents:\n",
    "    1. Basics (install & load octave)\n",
    "    2. Compute sensitivities with `derivnum` add-on for CO2SYS (ALK-DIC)\n",
    "    3. Compute sentitivities as before, but for a different input pair (pH-ALK)\n",
    "    4. Compute sentitivities as before, but for a different input pair (pCO2-DIC)"
   ]
  },
  {
   "cell_type": "markdown",
   "metadata": {},
   "source": [
    "## 1. Basics"
   ]
  },
  {
   "cell_type": "markdown",
   "metadata": {},
   "source": [
    "#### Run interactively\n",
    "\n",
    "If you are visualizing this after clicking on the link to this file on github, you are visualizing the HTML version of a jupyter notebook. Alternatively, you may run cells interactively and modify them if you have `jupyter notebook` installed on your machine.  To install that software, just download and the anaconda open software installer for your computing platform (Windows, OS X, or Linux) from https://www.continuum.io/downloads and then follow the easy install instructions at\n",
    "\n",
    "https://docs.continuum.io/anaconda/install#\n",
    "\n",
    "Then just download this `jupyter notebook` file as well as the 3 routines in the src directory (`CO2SYS.m`, `errors.m`, and `derivnum.m`).  Afterwards, you'll only need to install `octavemagic`, available in the `oct2py` package with the 1-line command in the following section."
   ]
  },
  {
   "cell_type": "markdown",
   "metadata": {},
   "source": [
    "#### Install `octavemagic`"
   ]
  },
  {
   "cell_type": "markdown",
   "metadata": {},
   "source": [
    "#### To install the octavemagic funtionality, we must install `oct2py`, with the following command at the Unix prompt:\n",
    "\n",
    "  `conda install -c conda-forge oct2py=3.6.5`\n",
    "  \n",
    "Then launch the notebook as usual with the following command:\n",
    "\n",
    "  `jupyter notebook`\n",
    "\n",
    "\n",
    "A new window or tab should appear in your browser, showing the files in the directory from where you launched the above command. Then just click on one of the `.ipynb` files, such as this one.\n",
    "\n",
    "One the notebook file appears in your browser, move to any of its cells with your mouse. Run a cell by clicking on it and hitting Ctrl-Return.  Alternatively, type Shift-Return to run a cell and then move to the next one. More information on all the interactive commankds is available in the Jupyter Notebook Quick Start Guide: http://jupyter-notebook-beginner-guide.readthedocs.io/en/latest/execute.html\n",
    "\n",
    "At the top of the notebook, you'll see 8 Tabs (File, Edit, View, Insert, ...). Those tabls provide commands that will allow you to do whatever you like. Under the Help tab you'll find keyboard shortcuts for commands. Alternatively, a cheat sheet for short cuts to commands within `jupyter notebook` is available at https://zenodo.org/record/44973/files/ipynb-cheat-sheet.pdf . Or use the command palette after typing Ctrl-Shift-P."
   ]
  },
  {
   "cell_type": "markdown",
   "metadata": {},
   "source": [
    "#### Documentation for octavemagic"
   ]
  },
  {
   "cell_type": "markdown",
   "metadata": {},
   "source": [
    "Details on using octavemagic are here: https://ipython.org/ipython-doc/2/config/extensions/octavemagic.html"
   ]
  },
  {
   "cell_type": "markdown",
   "metadata": {},
   "source": [
    "#### Load octave magic function\n",
    "\n",
    "Because octavemagic is now in conda's oct2py module, it is loaded with a slight modification to what is given on the above web page, i.e., now with the command below"
   ]
  },
  {
   "cell_type": "code",
   "execution_count": 1,
   "metadata": {
    "collapsed": false
   },
   "outputs": [],
   "source": [
    "%load_ext oct2py.ipython"
   ]
  },
  {
   "cell_type": "markdown",
   "metadata": {},
   "source": [
    "#### Specify directory where you have put the Matlab routines `CO2SYS.m`, `errors.m`, and `derivnum.m`."
   ]
  },
  {
   "cell_type": "code",
   "execution_count": 2,
   "metadata": {
    "collapsed": false
   },
   "outputs": [],
   "source": [
    "%%octave\n",
    "addpath (\"~/Software/MATLAB/CO2SYS-MATLAB/src\")"
   ]
  },
  {
   "cell_type": "markdown",
   "metadata": {},
   "source": [
    "## 2. Compute sentitivities with `derivnum` add-on for CO2SYS-Matlab ($A_\\text{T}$-$C_\\text{T}$ pair)"
   ]
  },
  {
   "cell_type": "markdown",
   "metadata": {},
   "source": [
    "### 2.1 Specify input variables and choices"
   ]
  },
  {
   "cell_type": "code",
   "execution_count": 3,
   "metadata": {
    "collapsed": false
   },
   "outputs": [
    {
     "data": {
      "text/plain": [
       "warning: load: can not read multi-byte encoded UTF8 characters; replacing unreadable characters with '?'"
      ]
     },
     "metadata": {},
     "output_type": "display_data"
    }
   ],
   "source": [
    "%%octave\n",
    "\n",
    "# Standard input for CO2SYS:\n",
    "# --------------------------\n",
    "    # Input Variables:\n",
    "    PAR1 = 2300;        % ALK\n",
    "    PAR2 = 2000;        % DIC\n",
    "    PAR1TYPE = 1;       % 1=ALK, 2=DIC, 3=pH, 4=pCO2, 5=fCO2\n",
    "    PAR2TYPE = 2;       % Same 5 choices as PAR1TYPE\n",
    "    SAL = 35;           % Salinity\n",
    "    TEMPIN = 18;        % Temperature (input)\n",
    "    TEMPOUT = 25;       % Temperature (output)\n",
    "    PRESIN = 0;         % Pressure (input)\n",
    "    PRESOUT = PRESIN;   % Pressure (output)\n",
    "#   SI = 60;            % Total dissolved inorganic silicon (Sit)\n",
    "#   PO4 = 2;            % Total dissoloved inorganic Phosphorus (Pt)\n",
    "    SI =  0;            % Total dissolved inorganic silicon (Sit)\n",
    "    PO4 = 0;            % Total dissoloved inorganic Phosphorus (Pt)\n",
    "\n",
    "    # Input Parameters:\n",
    "    pHSCALEIN = 1;      % pH scale (1=total, 2=seawater, 3=NBS, 4=Free)\n",
    "    K1K2CONSTANTS = 10; % set for K1 & K2: 10=Lueker et al. (2000); 14=Millero (2010); 15= Waters et al. (2014)\n",
    "    KSO4CONSTANTS = 1;  % KSO4 of Dickson (1990a) & Total dissolved boron (Bt) from Uppström (1974)"
   ]
  },
  {
   "cell_type": "code",
   "execution_count": 4,
   "metadata": {
    "collapsed": false
   },
   "outputs": [
    {
     "data": {
      "text/plain": [
       "'derivnum' is a function from the file /homel/orr/Software/MATLAB/CO2SYS-MATLAB/src/derivnum.m"
      ]
     },
     "metadata": {},
     "output_type": "display_data"
    },
    {
     "data": {
      "text/plain": []
     },
     "metadata": {},
     "output_type": "display_data"
    },
    {
     "data": {
      "text/plain": [
       " derivnum()"
      ]
     },
     "metadata": {},
     "output_type": "display_data"
    },
    {
     "data": {
      "text/plain": [
       " This subroutine computes partial derivatives of output carbonate variables "
      ]
     },
     "metadata": {},
     "output_type": "display_data"
    },
    {
     "data": {
      "text/plain": [
       " with respect to input variables (two), plus nutrients (two), temperature and salinity,"
      ]
     },
     "metadata": {},
     "output_type": "display_data"
    },
    {
     "data": {
      "text/plain": [
       " dissociation constants, and total boron."
      ]
     },
     "metadata": {},
     "output_type": "display_data"
    },
    {
     "data": {
      "text/plain": []
     },
     "metadata": {},
     "output_type": "display_data"
    },
    {
     "data": {
      "text/plain": [
       " It uses central differences, introducing a small perturbation "
      ]
     },
     "metadata": {},
     "output_type": "display_data"
    },
    {
     "data": {
      "text/plain": [
       " (plus and minus of a delta) in one input variable and computes the"
      ]
     },
     "metadata": {},
     "output_type": "display_data"
    },
    {
     "data": {
      "text/plain": [
       " resulting induced change in each output variable"
      ]
     },
     "metadata": {},
     "output_type": "display_data"
    },
    {
     "data": {
      "text/plain": []
     },
     "metadata": {},
     "output_type": "display_data"
    },
    {
     "data": {
      "text/plain": [
       " After numerical tests, the small PERTURBATION (delta) is chosen"
      ]
     },
     "metadata": {},
     "output_type": "display_data"
    },
    {
     "data": {
      "text/plain": [
       " as a fraction of a reference value as follows:"
      ]
     },
     "metadata": {},
     "output_type": "display_data"
    },
    {
     "data": {
      "text/plain": [
       " * 1.e-3 (0.1%) for the equilibrium constants and total boron "
      ]
     },
     "metadata": {},
     "output_type": "display_data"
    },
    {
     "data": {
      "text/plain": [
       " * 1.e-6        for the pair of CO2 system input variables (PAR1, PAR2)"
      ]
     },
     "metadata": {},
     "output_type": "display_data"
    },
    {
     "data": {
      "text/plain": [
       " * 1.e-4        for temperature and salinity"
      ]
     },
     "metadata": {},
     "output_type": "display_data"
    },
    {
     "data": {
      "text/plain": [
       " * 1.e-3        for total dissolved inorganic P and Si (PO4, SI)"
      ]
     },
     "metadata": {},
     "output_type": "display_data"
    },
    {
     "data": {
      "text/plain": []
     },
     "metadata": {},
     "output_type": "display_data"
    },
    {
     "data": {
      "text/plain": [
       "**************************************************************************"
      ]
     },
     "metadata": {},
     "output_type": "display_data"
    },
    {
     "data": {
      "text/plain": []
     },
     "metadata": {},
     "output_type": "display_data"
    },
    {
     "data": {
      "text/plain": [
       "  **** SYNTAX:"
      ]
     },
     "metadata": {},
     "output_type": "display_data"
    },
    {
     "data": {
      "text/plain": [
       "  [deriv, headers_der, units_der, headers_err, units_err]=..."
      ]
     },
     "metadata": {},
     "output_type": "display_data"
    },
    {
     "data": {
      "text/plain": [
       "                  derivnum(VARID,PAR1,PAR2,PAR1TYPE,PAR2TYPE,..."
      ]
     },
     "metadata": {},
     "output_type": "display_data"
    },
    {
     "data": {
      "text/plain": [
       "                          SAL,TEMPIN,TEMPOUT,PRESIN,PRESOUT,..."
      ]
     },
     "metadata": {},
     "output_type": "display_data"
    },
    {
     "data": {
      "text/plain": [
       "                          SI,PO4,pHSCALEIN,K1K2CONSTANTS,KSO4CONSTANTS)"
      ]
     },
     "metadata": {},
     "output_type": "display_data"
    },
    {
     "data": {
      "text/plain": [
       " "
      ]
     },
     "metadata": {},
     "output_type": "display_data"
    },
    {
     "data": {
      "text/plain": [
       "  **** SYNTAX EXAMPLES:"
      ]
     },
     "metadata": {},
     "output_type": "display_data"
    },
    {
     "data": {
      "text/plain": [
       "  [der, headers, units] = derivnum('par1',2400,2200,1,2,35,0,25,4200,0,15,1,1,4,1)"
      ]
     },
     "metadata": {},
     "output_type": "display_data"
    },
    {
     "data": {
      "text/plain": [
       "  [der, headers, units] = derivnum('sit', 2400,   8,1,3,35,0,25,4200,0,15,1,1,4,1)"
      ]
     },
     "metadata": {},
     "output_type": "display_data"
    },
    {
     "data": {
      "text/plain": [
       "  [deriv, headers]      = derivnum(  'T',  500,   8,5,3,35,0,25,4200,0,15,1,1,4,1)"
      ]
     },
     "metadata": {},
     "output_type": "display_data"
    },
    {
     "data": {
      "text/plain": [
       "  [deriv]               = derivnum('S',2400,2000:10:2400,1,2,35,0,25,4200,0,15,1,1,4,1)"
      ]
     },
     "metadata": {},
     "output_type": "display_data"
    },
    {
     "data": {
      "text/plain": [
       "  [deriv]               = derivnum('K0',2400,2200,1,2,0:1:35,0,25,4200,0,15,1,1,4,1)"
      ]
     },
     "metadata": {},
     "output_type": "display_data"
    },
    {
     "data": {
      "text/plain": [
       "  [deriv]               = derivnum('K1',2400,2200,1,2,35,0,25,0:100:4200,0,15,1,1,4,1)"
      ]
     },
     "metadata": {},
     "output_type": "display_data"
    },
    {
     "data": {
      "text/plain": [
       "  "
      ]
     },
     "metadata": {},
     "output_type": "display_data"
    },
    {
     "data": {
      "text/plain": [
       "**************************************************************************"
      ]
     },
     "metadata": {},
     "output_type": "display_data"
    },
    {
     "data": {
      "text/plain": []
     },
     "metadata": {},
     "output_type": "display_data"
    },
    {
     "data": {
      "text/plain": [
       " INPUT:"
      ]
     },
     "metadata": {},
     "output_type": "display_data"
    },
    {
     "data": {
      "text/plain": []
     },
     "metadata": {},
     "output_type": "display_data"
    },
    {
     "data": {
      "text/plain": [
       "   - VARID     :   character string to select the input variable for which"
      ]
     },
     "metadata": {},
     "output_type": "display_data"
    },
    {
     "data": {
      "text/plain": [
       "                   derivatives will be taken with respect to. "
      ]
     },
     "metadata": {},
     "output_type": "display_data"
    },
    {
     "data": {
      "text/plain": [
       "                   This variable appears in denominator of each resulting derivative."
      ]
     },
     "metadata": {},
     "output_type": "display_data"
    },
    {
     "data": {
      "text/plain": [
       "                   = variable length, case insensitive, character code"
      ]
     },
     "metadata": {},
     "output_type": "display_data"
    },
    {
     "data": {
      "text/plain": [
       "                     case 'par1'  :  Parameter 1 of the input pair (This is TAlk if PAR1TYPE is 1)"
      ]
     },
     "metadata": {},
     "output_type": "display_data"
    },
    {
     "data": {
      "text/plain": [
       "                     case 'par2'  :  Parameter 2 of the input pair (This is TAlk if PAR2TYPE is 1)"
      ]
     },
     "metadata": {},
     "output_type": "display_data"
    },
    {
     "data": {
      "text/plain": [
       "                     case 'sil', 'silt', 'tsil', 'silicate', or 'sit'     : Silicate concentration"
      ]
     },
     "metadata": {},
     "output_type": "display_data"
    },
    {
     "data": {
      "text/plain": [
       "                     case 'phos', 'phost', 'tphos', 'phosphate', or 'pt'  : Phosphate concentration"
      ]
     },
     "metadata": {},
     "output_type": "display_data"
    },
    {
     "data": {
      "text/plain": [
       "                     case 't', 'temp' or 'temperature'           : temperature"
      ]
     },
     "metadata": {},
     "output_type": "display_data"
    },
    {
     "data": {
      "text/plain": [
       "                     case 's', 'sal', or 'salinity'              : salinity"
      ]
     },
     "metadata": {},
     "output_type": "display_data"
    },
    {
     "data": {
      "text/plain": [
       "                     case 'K0','K1','K2','Kb','Kw','Kspa', 'Kspc': dissociation constants "
      ]
     },
     "metadata": {},
     "output_type": "display_data"
    },
    {
     "data": {
      "text/plain": [
       "                     case 'bor': total boron"
      ]
     },
     "metadata": {},
     "output_type": "display_data"
    },
    {
     "data": {
      "text/plain": []
     },
     "metadata": {},
     "output_type": "display_data"
    },
    {
     "data": {
      "text/plain": [
       "   - all others :  same list of input parameters as in CO2SYS() subroutine (scalar or vectors)"
      ]
     },
     "metadata": {},
     "output_type": "display_data"
    },
    {
     "data": {
      "text/plain": []
     },
     "metadata": {},
     "output_type": "display_data"
    },
    {
     "data": {
      "text/plain": [
       "**************************************************************************%"
      ]
     },
     "metadata": {},
     "output_type": "display_data"
    },
    {
     "data": {
      "text/plain": []
     },
     "metadata": {},
     "output_type": "display_data"
    },
    {
     "data": {
      "text/plain": [
       " OUTPUT: * an array containing the derivative of the following parameter (one row per sample):"
      ]
     },
     "metadata": {},
     "output_type": "display_data"
    },
    {
     "data": {
      "text/plain": [
       "         *  a cell-array containing crudely formatted headers"
      ]
     },
     "metadata": {},
     "output_type": "display_data"
    },
    {
     "data": {
      "text/plain": []
     },
     "metadata": {},
     "output_type": "display_data"
    },
    {
     "data": {
      "text/plain": [
       "    POS  PARAMETER        UNIT"
      ]
     },
     "metadata": {},
     "output_type": "display_data"
    },
    {
     "data": {
      "text/plain": []
     },
     "metadata": {},
     "output_type": "display_data"
    },
    {
     "data": {
      "text/plain": [
       "    01 - TAlk                 (umol/kgSW)"
      ]
     },
     "metadata": {},
     "output_type": "display_data"
    },
    {
     "data": {
      "text/plain": [
       "    02 - TCO2                 (umol/kgSW)"
      ]
     },
     "metadata": {},
     "output_type": "display_data"
    },
    {
     "data": {
      "text/plain": [
       "    03 - [H+] input           (umol/kgSW)"
      ]
     },
     "metadata": {},
     "output_type": "display_data"
    },
    {
     "data": {
      "text/plain": [
       "    04 - pCO2 input           (uatm)"
      ]
     },
     "metadata": {},
     "output_type": "display_data"
    },
    {
     "data": {
      "text/plain": [
       "    05 - fCO2 input           (uatm)"
      ]
     },
     "metadata": {},
     "output_type": "display_data"
    },
    {
     "data": {
      "text/plain": [
       "    06 - HCO3 input           (umol/kgSW)"
      ]
     },
     "metadata": {},
     "output_type": "display_data"
    },
    {
     "data": {
      "text/plain": [
       "    07 - CO3 input            (umol/kgSW)"
      ]
     },
     "metadata": {},
     "output_type": "display_data"
    },
    {
     "data": {
      "text/plain": [
       "    08 - CO2 input            (umol/kgSW)"
      ]
     },
     "metadata": {},
     "output_type": "display_data"
    },
    {
     "data": {
      "text/plain": [
       "    09 - OmegaCa input        ()"
      ]
     },
     "metadata": {},
     "output_type": "display_data"
    },
    {
     "data": {
      "text/plain": [
       "    10 - OmegaAr input        ()"
      ]
     },
     "metadata": {},
     "output_type": "display_data"
    },
    {
     "data": {
      "text/plain": [
       "    11 - xCO2 input           (ppm)"
      ]
     },
     "metadata": {},
     "output_type": "display_data"
    },
    {
     "data": {
      "text/plain": [
       "    12 - [H+] output          ()"
      ]
     },
     "metadata": {},
     "output_type": "display_data"
    },
    {
     "data": {
      "text/plain": [
       "    13 - pCO2 output          (uatm)"
      ]
     },
     "metadata": {},
     "output_type": "display_data"
    },
    {
     "data": {
      "text/plain": [
       "    14 - fCO2 output          (uatm)"
      ]
     },
     "metadata": {},
     "output_type": "display_data"
    },
    {
     "data": {
      "text/plain": [
       "    15 - HCO3 output          (umol/kgSW)"
      ]
     },
     "metadata": {},
     "output_type": "display_data"
    },
    {
     "data": {
      "text/plain": [
       "    16 - CO3 output           (umol/kgSW)"
      ]
     },
     "metadata": {},
     "output_type": "display_data"
    },
    {
     "data": {
      "text/plain": [
       "    17 - CO2 output           (umol/kgSW)"
      ]
     },
     "metadata": {},
     "output_type": "display_data"
    },
    {
     "data": {
      "text/plain": [
       "    18 - OmegaCa output       ()"
      ]
     },
     "metadata": {},
     "output_type": "display_data"
    },
    {
     "data": {
      "text/plain": [
       "    19 - OmegaAr output       ()"
      ]
     },
     "metadata": {},
     "output_type": "display_data"
    },
    {
     "data": {
      "text/plain": [
       "    20 - xCO2 output          (ppm)"
      ]
     },
     "metadata": {},
     "output_type": "display_data"
    },
    {
     "data": {
      "text/plain": []
     },
     "metadata": {},
     "output_type": "display_data"
    },
    {
     "data": {
      "text/plain": [
       " Remark : if all input pairs are of the same type, derivatives of input pairs are omitted"
      ]
     },
     "metadata": {},
     "output_type": "display_data"
    },
    {
     "data": {
      "text/plain": []
     },
     "metadata": {},
     "output_type": "display_data"
    },
    {
     "data": {
      "text/plain": []
     },
     "metadata": {},
     "output_type": "display_data"
    },
    {
     "data": {
      "text/plain": []
     },
     "metadata": {},
     "output_type": "display_data"
    },
    {
     "data": {
      "text/plain": [
       "Additional help for built-in functions and operators is"
      ]
     },
     "metadata": {},
     "output_type": "display_data"
    },
    {
     "data": {
      "text/plain": [
       "available in the online version of the manual.  Use the command"
      ]
     },
     "metadata": {},
     "output_type": "display_data"
    },
    {
     "data": {
      "text/plain": [
       "'doc <topic>' to search the manual index."
      ]
     },
     "metadata": {},
     "output_type": "display_data"
    },
    {
     "data": {
      "text/plain": []
     },
     "metadata": {},
     "output_type": "display_data"
    },
    {
     "data": {
      "text/plain": [
       "Help and information about Octave is also available on the WWW"
      ]
     },
     "metadata": {},
     "output_type": "display_data"
    },
    {
     "data": {
      "text/plain": [
       "at http://www.octave.org and via the help@octave.org"
      ]
     },
     "metadata": {},
     "output_type": "display_data"
    },
    {
     "data": {
      "text/plain": [
       "mailing list."
      ]
     },
     "metadata": {},
     "output_type": "display_data"
    }
   ],
   "source": [
    "%%octave \n",
    "help derivnum"
   ]
  },
  {
   "cell_type": "markdown",
   "metadata": {},
   "source": [
    "### 2.2 Partial derivatives with respect to par1 (specified above as ALK)"
   ]
  },
  {
   "cell_type": "code",
   "execution_count": 5,
   "metadata": {
    "collapsed": false
   },
   "outputs": [
    {
     "data": {
      "text/plain": [
       "dHin/dALK dpCO2in/dALK dfCO2in/dALK dHCO3in/dALK dCO3in/dALK dCO2in/dALK dOmegaCAin/dALK dOmegaARin/dALK dxCO2in/dALK "
      ]
     },
     "metadata": {},
     "output_type": "display_data"
    },
    {
     "data": {
      "text/plain": [
       "(nmol/umol) (uatm kg/umol) (uatm kg/umol) (umol/umol) (umol/umol) (umol/umol) (kg/umol) (kg/umol) (ppm kg/umol) "
      ]
     },
     "metadata": {},
     "output_type": "display_data"
    },
    {
     "data": {
      "text/plain": [
       "-0.025272  -1.177568   -1.173474    -0.640003    0.680239    -0.040236   0.016242         0.010503       -1.201560 "
      ]
     },
     "metadata": {},
     "output_type": "display_data"
    }
   ],
   "source": [
    "%%octave\n",
    "    [b, bhead, bunits] = derivnum ('par1', PAR1, PAR2, PAR1TYPE, PAR2TYPE, SAL, TEMPIN, TEMPOUT, PRESIN, PRESOUT,... \n",
    "                                   SI, PO4,...\n",
    "                                   pHSCALEIN, K1K2CONSTANTS, KSO4CONSTANTS);\n",
    "# Print (nicely formatted):\n",
    "  printf(\"%s %s %s %s %s %s %s %s %s \\n\", bhead{1:9});\n",
    "  printf(\"%s %s %s %s %s %s %s %s %s \\n\", bunits{1:9});\n",
    "  printf(\"%f  %f   %f    %f    %f    %f   %f         %f       %f \\n\", b(1:9));\n"
   ]
  },
  {
   "cell_type": "markdown",
   "metadata": {},
   "source": [
    "### 2.3 Partial derivatives with respect to par1 (specified above as DIC)"
   ]
  },
  {
   "cell_type": "code",
   "execution_count": 6,
   "metadata": {
    "collapsed": false,
    "scrolled": true
   },
   "outputs": [
    {
     "data": {
      "text/plain": [
       "dHin/dDIC dpCO2in/dDIC dfCO2in/dDIC dHCO3in/dDIC dCO3in/dDIC dCO2in/dDIC dOmegaCAin/dDIC dOmegaARin/dDIC dxCO2in/dDIC "
      ]
     },
     "metadata": {},
     "output_type": "display_data"
    },
    {
     "data": {
      "text/plain": [
       "(nmol/umol) (uatm kg/umol) (uatm kg/umol) (umol/umol) (umol/umol) (umol/umol) (kg/umol) (kg/umol) (ppm kg/umol) "
      ]
     },
     "metadata": {},
     "output_type": "display_data"
    },
    {
     "data": {
      "text/plain": [
       "0.027804  1.444617   1.439594    1.593748    -0.643108    0.049360   -0.015355         -0.009929       1.474049 "
      ]
     },
     "metadata": {},
     "output_type": "display_data"
    }
   ],
   "source": [
    "%%octave\n",
    "    [b, bhead, bunits] = derivnum ('par2', PAR1, PAR2, PAR1TYPE, PAR2TYPE, SAL, TEMPIN, TEMPOUT, PRESIN, PRESOUT,... \n",
    "                                   SI, PO4,...\n",
    "                                   pHSCALEIN, K1K2CONSTANTS, KSO4CONSTANTS);\n",
    "# Print (nicely formatted):\n",
    "  printf(\"%s %s %s %s %s %s %s %s %s \\n\", bhead{1:9});\n",
    "  printf(\"%s %s %s %s %s %s %s %s %s \\n\", bunits{1:9});\n",
    "  printf(\"%f  %f   %f    %f    %f    %f   %f         %f       %f \\n\", b(1:9));\n"
   ]
  },
  {
   "cell_type": "markdown",
   "metadata": {},
   "source": [
    "### 2.3 Partial derivatives with respect to Temperature"
   ]
  },
  {
   "cell_type": "code",
   "execution_count": 7,
   "metadata": {
    "collapsed": false,
    "scrolled": true
   },
   "outputs": [
    {
     "data": {
      "text/plain": [
       "dHin/dT dpCO2in/dT dfCO2in/dT dHCO3in/dT dCO3in/dT dCO2in/dT dOmegaCAin/dT dOmegaARin/dT dxCO2in/dT "
      ]
     },
     "metadata": {},
     "output_type": "display_data"
    },
    {
     "data": {
      "text/plain": [
       "(nmol/kg/C) (uatm/C) (uatm/C) (umol/kg/C) (umol/kg/C) (umol/kg/C) ( /C) ( /C) (ppm/C) "
      ]
     },
     "metadata": {},
     "output_type": "display_data"
    },
    {
     "data": {
      "text/plain": [
       "0.249816  12.420949   12.390731    -0.569214    0.436810    0.132404   0.014165         0.017063       13.063959 "
      ]
     },
     "metadata": {},
     "output_type": "display_data"
    }
   ],
   "source": [
    "%%octave\n",
    "    [b, bhead, bunits] = derivnum ('T', PAR1, PAR2, PAR1TYPE, PAR2TYPE, SAL, TEMPIN, TEMPOUT, PRESIN, PRESOUT,... \n",
    "                                   SI, PO4,...\n",
    "                                   pHSCALEIN, K1K2CONSTANTS, KSO4CONSTANTS);\n",
    "# Print (nicely formatted):\n",
    "  printf(\"%s %s %s %s %s %s %s %s %s \\n\", bhead{1:9});\n",
    "  printf(\"%s %s %s %s %s %s %s %s %s \\n\", bunits{1:9});\n",
    "  printf(\"%f  %f   %f    %f    %f    %f   %f         %f       %f \\n\", b(1:9));\n"
   ]
  },
  {
   "cell_type": "markdown",
   "metadata": {},
   "source": [
    "### 2.3 Partial derivatives with respect to Salinity"
   ]
  },
  {
   "cell_type": "code",
   "execution_count": 8,
   "metadata": {
    "collapsed": false,
    "scrolled": true
   },
   "outputs": [
    {
     "data": {
      "text/plain": [
       "dHin/dS dpCO2in/dS dfCO2in/dS dHCO3in/dS dCO3in/dS dCO2in/dS dOmegaCAin/dS dOmegaARin/dS dxCO2in/dS "
      ]
     },
     "metadata": {},
     "output_type": "display_data"
    },
    {
     "data": {
      "text/plain": [
       "(nmol/kg/psu) (uatm/psu) (uatm/psu) (umol/kg/psu) (umol/kg/psu) (umol/kg/psu) ( /psu) ( /psu) (ppm/psu) "
      ]
     },
     "metadata": {},
     "output_type": "display_data"
    },
    {
     "data": {
      "text/plain": [
       "0.205749  8.118520   8.090290    0.988837    -1.210351    0.221515   -0.065058         -0.037038       8.280555 "
      ]
     },
     "metadata": {},
     "output_type": "display_data"
    }
   ],
   "source": [
    "%%octave\n",
    "    [b, bhead, bunits] = derivnum ('S', PAR1, PAR2, PAR1TYPE, PAR2TYPE, SAL, TEMPIN, TEMPOUT, PRESIN, PRESOUT,... \n",
    "                                   SI, PO4,...\n",
    "                                   pHSCALEIN, K1K2CONSTANTS, KSO4CONSTANTS);\n",
    "# Print (nicely formatted):\n",
    "  printf(\"%s %s %s %s %s %s %s %s %s \\n\", bhead{1:9});\n",
    "  printf(\"%s %s %s %s %s %s %s %s %s \\n\", bunits{1:9});\n",
    "  printf(\"%f  %f   %f    %f    %f    %f   %f         %f       %f \\n\", b(1:9));\n"
   ]
  },
  {
   "cell_type": "markdown",
   "metadata": {},
   "source": [
    "### 2.4 Partial derivatives with respect to $K_1$"
   ]
  },
  {
   "cell_type": "code",
   "execution_count": 9,
   "metadata": {
    "collapsed": false
   },
   "outputs": [
    {
     "data": {
      "text/plain": [
       "dHin/dK1 dpCO2in/dK1 dfCO2in/dK1 dHCO3in/dK1 dCO3in/dK1 dCO2in/dK1 dOmegaCAin/dK1 dOmegaARin/dK1 dxCO2in/dK1 "
      ]
     },
     "metadata": {},
     "output_type": "display_data"
    },
    {
     "data": {
      "text/plain": [
       "(nmol/kg/) (uatm/) (uatm/) (umol/kg/) (umol/kg/) (umol/kg/) ( /) ( /) (ppm/) "
      ]
     },
     "metadata": {},
     "output_type": "display_data"
    },
    {
     "data": {
      "text/plain": [
       "230359.391927  -230506161.311936   -229704650.944598    13204152.567520    -5328129.469279    -7876023.098139   -127215.501345         -82264.826480       -235202479.519809 "
      ]
     },
     "metadata": {},
     "output_type": "display_data"
    }
   ],
   "source": [
    "%%octave\n",
    "    [b, bhead, bunits] = derivnum ('K1', PAR1, PAR2, PAR1TYPE, PAR2TYPE, SAL, TEMPIN, TEMPOUT, PRESIN, PRESOUT,... \n",
    "                                   SI, PO4,...\n",
    "                                   pHSCALEIN, K1K2CONSTANTS, KSO4CONSTANTS);\n",
    "# Print (nicely formatted):\n",
    "  printf(\"%s %s %s %s %s %s %s %s %s \\n\", bhead{1:9});\n",
    "  printf(\"%s %s %s %s %s %s %s %s %s \\n\", bunits{1:9});\n",
    "  printf(\"%f  %f   %f    %f    %f    %f   %f         %f       %f \\n\", b(1:9));\n"
   ]
  },
  {
   "cell_type": "markdown",
   "metadata": {},
   "source": [
    "### 2.5 Partial derivatives with respect to $K_A$ (solubility product for aragonite)"
   ]
  },
  {
   "cell_type": "code",
   "execution_count": 10,
   "metadata": {
    "collapsed": false
   },
   "outputs": [
    {
     "data": {
      "text/plain": [
       "dHin/dKSPA dpCO2in/dKSPA dfCO2in/dKSPA dHCO3in/dKSPA dCO3in/dKSPA dCO2in/dKSPA dOmegaCAin/dKSPA dOmegaARin/dKSPA dxCO2in/dKSPA "
      ]
     },
     "metadata": {},
     "output_type": "display_data"
    },
    {
     "data": {
      "text/plain": [
       "(nmol/kg/) (uatm/) (uatm/) (umol/kg/) (umol/kg/) (umol/kg/) ( /) ( /) (ppm/) "
      ]
     },
     "metadata": {},
     "output_type": "display_data"
    },
    {
     "data": {
      "text/plain": [
       "0.000000  0.000000   0.000000    0.000000    0.000000    0.000000   0.000000         -4880821.760913       0.000000 "
      ]
     },
     "metadata": {},
     "output_type": "display_data"
    }
   ],
   "source": [
    "%%octave\n",
    "    [b, bhead, bunits] = derivnum ('Kspa', PAR1, PAR2, PAR1TYPE, PAR2TYPE, SAL, TEMPIN, TEMPOUT, PRESIN, PRESOUT,... \n",
    "                                   SI, PO4,...\n",
    "                                   pHSCALEIN, K1K2CONSTANTS, KSO4CONSTANTS);\n",
    "# Print (nicely formatted):\n",
    "  printf(\"%s %s %s %s %s %s %s %s %s \\n\", bhead{1:9});\n",
    "  printf(\"%s %s %s %s %s %s %s %s %s \\n\", bunits{1:9});\n",
    "  printf(\"%f  %f   %f    %f    %f    %f   %f         %f       %f \\n\", b(1:9));\n"
   ]
  },
  {
   "cell_type": "markdown",
   "metadata": {},
   "source": [
    "## 3. Compute sentitivities with `derivnum` for a different input pair (pH-$A_\\text{T}$)"
   ]
  },
  {
   "cell_type": "markdown",
   "metadata": {},
   "source": [
    "### 3.1 Specify input variables and choices"
   ]
  },
  {
   "cell_type": "code",
   "execution_count": 11,
   "metadata": {
    "collapsed": false
   },
   "outputs": [],
   "source": [
    "%%octave\n",
    "\n",
    "# Standard input for CO2SYS:\n",
    "# --------------------------\n",
    "    # Input Variables:\n",
    "    PAR1 = 8.1;         % pH\n",
    "    PAR2 = 2300;        % ALK\n",
    "    PAR1TYPE = 3;       % 1=ALK, 2=DIC, 3=pH, 4=pCO2, 5=fCO2\n",
    "    PAR2TYPE = 1;       % Same 5 choices as PAR1TYPE\n",
    "    SAL = 35;           % Salinity\n",
    "    TEMPIN = 18;        % Temperature (input)\n",
    "    TEMPOUT = 25;       % Temperature (output)\n",
    "    PRESIN = 0;         % Pressure (input)\n",
    "    PRESOUT = PRESIN;   % Pressure (output)\n",
    "    SI = 60;            % Total dissolved inorganic silicon (Sit)\n",
    "    PO4 = 2;            % Total dissoloved inorganic Phosphorus (Pt)\n",
    "\n",
    "    # Input Parameters:\n",
    "    pHSCALEIN = 1;      % pH scale (1=total, 2=seawater, 3=NBS, 4=Free)\n",
    "    K1K2CONSTANTS = 15; % set for K1 & K2: 10=Lueker et al. (2000); 14=Millero (2010); 15=Waters et al. (2014)\n",
    "    KSO4CONSTANTS = 1;  % KSO4 of Dickson (1990a) & Total dissolved boron (Bt) from Uppstrom (1974)"
   ]
  },
  {
   "cell_type": "markdown",
   "metadata": {},
   "source": [
    "### 3.2 Partial derivatives with respect to H+ (since par1 is pH)"
   ]
  },
  {
   "cell_type": "code",
   "execution_count": 12,
   "metadata": {
    "collapsed": false
   },
   "outputs": [
    {
     "data": {
      "text/plain": [
       "dTCO2/dH dpCO2in/dH dfCO2in/dH dHCO3in/dH dCO3in/dH dCO2in/dH dOmegaCAin/dH dOmegaARin/dH dxCO2in/dH "
      ]
     },
     "metadata": {},
     "output_type": "display_data"
    },
    {
     "data": {
      "text/plain": [
       "(umol/nmol) (uatm kg/nmol) (uatm kg/nmol) (umol/nmol) (umol/nmol) (umol/nmol) (kg/nmol) (kg/nmol) (ppm kg/nmol) "
      ]
     },
     "metadata": {},
     "output_type": "display_data"
    },
    {
     "data": {
      "text/plain": [
       "30.127283  53.010721   52.826393    47.198812    -18.882819    1.811291   -0.450850         -0.291545       54.090758 "
      ]
     },
     "metadata": {},
     "output_type": "display_data"
    }
   ],
   "source": [
    "%%octave\n",
    "    [b, bhead, bunits] = derivnum ('par1', PAR1, PAR2, PAR1TYPE, PAR2TYPE, SAL, TEMPIN, TEMPOUT, PRESIN, PRESOUT,... \n",
    "                                   SI, PO4,...\n",
    "                                   pHSCALEIN, K1K2CONSTANTS, KSO4CONSTANTS);\n",
    "# Print (nicely formatted):\n",
    "  printf(\"%s %s %s %s %s %s %s %s %s \\n\", bhead{1:9});\n",
    "  printf(\"%s %s %s %s %s %s %s %s %s \\n\", bunits{1:9});\n",
    "  printf(\"%f  %f   %f    %f    %f    %f   %f         %f       %f \\n\", b(1:9));\n"
   ]
  },
  {
   "cell_type": "markdown",
   "metadata": {},
   "source": [
    "### 3.3 Partial derivatives with respect to par2 (specified above as ALK)"
   ]
  },
  {
   "cell_type": "code",
   "execution_count": 13,
   "metadata": {
    "collapsed": false,
    "scrolled": true
   },
   "outputs": [
    {
     "data": {
      "text/plain": [
       "dTCO2/dALK dpCO2in/dALK dfCO2in/dALK dHCO3in/dALK dCO3in/dALK dCO2in/dALK dOmegaCAin/dALK dOmegaARin/dALK dxCO2in/dALK "
      ]
     },
     "metadata": {},
     "output_type": "display_data"
    },
    {
     "data": {
      "text/plain": [
       "(umol/umol) (uatm kg/umol) (uatm kg/umol) (umol/umol) (umol/umol) (umol/umol) (kg/umol) (kg/umol) (ppm kg/umol) "
      ]
     },
     "metadata": {},
     "output_type": "display_data"
    },
    {
     "data": {
      "text/plain": [
       "0.919834  0.158460   0.157909    0.828840    0.085580    0.005414   0.002043         0.001321       0.161689 "
      ]
     },
     "metadata": {},
     "output_type": "display_data"
    }
   ],
   "source": [
    "%%octave\n",
    "    [b, bhead, bunits] = derivnum ('par2', PAR1, PAR2, PAR1TYPE, PAR2TYPE, SAL, TEMPIN, TEMPOUT, PRESIN, PRESOUT,... \n",
    "                                   SI, PO4,...\n",
    "                                   pHSCALEIN, K1K2CONSTANTS, KSO4CONSTANTS);\n",
    "# Print (nicely formatted):\n",
    "  printf(\"%s %s %s %s %s %s %s %s %s \\n\", bhead{1:9});\n",
    "  printf(\"%s %s %s %s %s %s %s %s %s \\n\", bunits{1:9});\n",
    "  printf(\"%f  %f   %f    %f    %f    %f   %f         %f       %f \\n\", b(1:9));\n"
   ]
  },
  {
   "cell_type": "markdown",
   "metadata": {},
   "source": [
    "## 4. Compute sentitivities with `derivnum` for a different input pair (pCO2-$C_\\text{T}$)"
   ]
  },
  {
   "cell_type": "markdown",
   "metadata": {},
   "source": [
    "### 4.1 Specify input variables and choices"
   ]
  },
  {
   "cell_type": "code",
   "execution_count": 16,
   "metadata": {
    "collapsed": false
   },
   "outputs": [],
   "source": [
    "%%octave\n",
    "\n",
    "# Standard input for CO2SYS:\n",
    "# --------------------------\n",
    "    # Input Variables:\n",
    "    PAR1 = 400;         % pCO2\n",
    "    PAR2 = 2300;        % DIC\n",
    "    PAR1TYPE = 4;       % 1=ALK, 2=DIC, 3=pH, 4=pCO2, 5=fCO2\n",
    "    PAR2TYPE = 2;       % Same 5 choices as PAR1TYPE\n",
    "    SAL = 35;           % Salinity\n",
    "    TEMPIN = 18;        % Temperature (input)\n",
    "    TEMPOUT = 25;       % Temperature (output)\n",
    "    PRESIN = 0;         % Pressure (input)\n",
    "    PRESOUT = PRESIN;   % Pressure (output)\n",
    "    SI = 60;            % Total dissolved inorganic silicon (Sit)\n",
    "    PO4 = 2;            % Total dissoloved inorganic Phosphorus (Pt)\n",
    "\n",
    "    # Input Parameters:\n",
    "    pHSCALEIN = 1;      % pH scale (1=total, 2=seawater, 3=NBS, 4=Free)\n",
    "    K1K2CONSTANTS = 15; % set for K1 & K2: 10=Lueker et al. (2000); 14=Millero (2010); 15=Waters et al. (2014)\n",
    "    KSO4CONSTANTS = 1;  % KSO4 of Dickson (1990a) & Total dissolved boron (Bt) from Uppstrom (1974)"
   ]
  },
  {
   "cell_type": "markdown",
   "metadata": {},
   "source": [
    "### 4.2 Partial derivatives with respect to par1 (specified as pCO2 above)"
   ]
  },
  {
   "cell_type": "code",
   "execution_count": 17,
   "metadata": {
    "collapsed": false
   },
   "outputs": [
    {
     "data": {
      "text/plain": [
       "dTAlk/dpCO2 dHin/dpCO2 dfCO2in/dpCO2 dHCO3in/dpCO2 dCO3in/dpCO2 dCO2in/dpCO2 dOmegaCAin/dpCO2 dOmegaARin/dpCO2 dxCO2in/dpCO2 "
      ]
     },
     "metadata": {},
     "output_type": "display_data"
    },
    {
     "data": {
      "text/plain": [
       "(umol/kg/uatm) (nmol/kg/uatm) (uatm/uatm) (umol/kg/uatm) (umol/kg/uatm) (umol/kg/uatm) ( /uatm) ( /uatm) (ppm/uatm) "
      ]
     },
     "metadata": {},
     "output_type": "display_data"
    },
    {
     "data": {
      "text/plain": [
       "-0.652024  0.018440   0.996523    0.412178    -0.446346    0.034168   -0.010657         -0.006891       1.020374 "
      ]
     },
     "metadata": {},
     "output_type": "display_data"
    }
   ],
   "source": [
    "%%octave\n",
    "    [b, bhead, bunits] = derivnum ('par1', PAR1, PAR2, PAR1TYPE, PAR2TYPE, SAL, TEMPIN, TEMPOUT, ...\n",
    "                                   PRESIN, PRESOUT, SI, PO4,...\n",
    "                                   pHSCALEIN, K1K2CONSTANTS, KSO4CONSTANTS);\n",
    "# Print (nicely formatted):\n",
    "  printf(\"%s %s %s %s %s %s %s %s %s \\n\", bhead{1:9});\n",
    "  printf(\"%s %s %s %s %s %s %s %s %s \\n\", bunits{1:9});\n",
    "  printf(\"%f  %f   %f    %f    %f    %f   %f         %f       %f \\n\", b(1:9));\n"
   ]
  },
  {
   "cell_type": "markdown",
   "metadata": {},
   "source": [
    "### 4.3 Partial derivatives with respect to par2 (specified above as DIC)"
   ]
  },
  {
   "cell_type": "code",
   "execution_count": 18,
   "metadata": {
    "collapsed": false,
    "scrolled": true
   },
   "outputs": [
    {
     "data": {
      "text/plain": [
       "dTAlk/dDIC dHin/dDIC dfCO2in/dDIC dHCO3in/dDIC dCO3in/dDIC dCO2in/dDIC dOmegaCAin/dDIC dOmegaARin/dDIC dxCO2in/dDIC "
      ]
     },
     "metadata": {},
     "output_type": "display_data"
    },
    {
     "data": {
      "text/plain": [
       "(umol/umol) (nmol/umol) (uatm kg/umol) (umol/umol) (umol/umol) (umol/umol) (kg/umol) (kg/umol) (ppm kg/umol) "
      ]
     },
     "metadata": {},
     "output_type": "display_data"
    },
    {
     "data": {
      "text/plain": [
       "1.199753  -0.003207   0.000000    0.830075    0.169925    -0.000000   0.004057         0.002624       0.000000 "
      ]
     },
     "metadata": {},
     "output_type": "display_data"
    }
   ],
   "source": [
    "%%octave\n",
    "    [b, bhead, bunits] = derivnum ('par2', PAR1, PAR2, PAR1TYPE, PAR2TYPE, SAL, TEMPIN, TEMPOUT,... \n",
    "                                   PRESIN, PRESOUT, SI, PO4,...\n",
    "                                   pHSCALEIN, K1K2CONSTANTS, KSO4CONSTANTS);\n",
    "# Print (nicely formatted):\n",
    "  printf(\"%s %s %s %s %s %s %s %s %s \\n\", bhead{1:9});\n",
    "  printf(\"%s %s %s %s %s %s %s %s %s \\n\", bunits{1:9});\n",
    "  printf(\"%f  %f   %f    %f    %f    %f   %f         %f       %f \\n\", b(1:9));\n"
   ]
  }
 ],
 "metadata": {
  "anaconda-cloud": {},
  "kernelspec": {
   "display_name": "Python 2",
   "language": "python",
   "name": "python2"
  },
  "language_info": {
   "codemirror_mode": {
    "name": "ipython",
    "version": 2
   },
   "file_extension": ".py",
   "mimetype": "text/x-python",
   "name": "python",
   "nbconvert_exporter": "python",
   "pygments_lexer": "ipython2",
   "version": "2.7.13"
  }
 },
 "nbformat": 4,
 "nbformat_minor": 1
}
